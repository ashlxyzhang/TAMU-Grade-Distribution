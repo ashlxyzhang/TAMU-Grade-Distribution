{
 "cells": [
  {
   "cell_type": "code",
   "execution_count": 2,
   "metadata": {},
   "outputs": [],
   "source": [
    "# imports\n",
    "import urllib3\n",
    "from urllib3.util.ssl_ import create_urllib3_context\n",
    "from urllib.parse import urljoin\n",
    "from bs4 import BeautifulSoup\n",
    "\n",
    "import pandas as pd\n",
    "import tabula\n",
    "\n",
    "import logging\n",
    "from flask import Flask, request, render_template, session, redirect"
   ]
  },
  {
   "cell_type": "code",
   "execution_count": 3,
   "metadata": {},
   "outputs": [],
   "source": [
    "# url\n",
    "url = \"https://web-as.tamu.edu/gradereports/\""
   ]
  },
  {
   "cell_type": "code",
   "execution_count": 4,
   "metadata": {},
   "outputs": [],
   "source": [
    "# create custom context\n",
    "ctx = create_urllib3_context()\n",
    "ctx.load_default_certs()\n",
    "ctx.options |= 0x4"
   ]
  },
  {
   "cell_type": "code",
   "execution_count": 5,
   "metadata": {},
   "outputs": [],
   "source": [
    "# create PoolManager instance to make requests\n",
    "http = urllib3.PoolManager(ssl_context=ctx)"
   ]
  },
  {
   "cell_type": "code",
   "execution_count": 6,
   "metadata": {},
   "outputs": [],
   "source": [
    "# get HTTPReponse object\n",
    "read = http.request(\"GET\", url)"
   ]
  },
  {
   "cell_type": "code",
   "execution_count": 7,
   "metadata": {},
   "outputs": [],
   "source": [
    "# parse HTML content using beautifulsoup\n",
    "html = read.data\n",
    "soup = BeautifulSoup(html, \"html.parser\")"
   ]
  },
  {
   "cell_type": "code",
   "execution_count": 8,
   "metadata": {},
   "outputs": [],
   "source": [
    "# find filter elements\n",
    "year = soup.find(\"select\", {\"name\": \"ctl00$plcMain$lstGradYear\"})\n",
    "sem = soup.find(\"select\", {\"name\": \"ctl00$plcMain$lstGradTerm\"})\n",
    "college = soup.find(\"select\", {\"name\": \"ctl00$plcMain$lstGradCollege\"})\n",
    "\n",
    "# all years\n",
    "year_options = year.find_all(\"option\")\n",
    "year_list = [option[\"value\"] for option in year_options]\n",
    "year_list = year_list[0:4]\n",
    "\n",
    "# all sems (spring, summer, fall)\n",
    "sem_list = [\"1\", \"2\", \"3\"]\n",
    "\n",
    "# all colleges\n",
    "college_options = college.find_all(\"option\")\n",
    "college_remove = [\"DN_PROF\", \"DT_PROF\", \"SL_PROF\", \"MD_PROF\", \"MN_PROF\", \"UT\"]\n",
    "college_list = [option[\"value\"] for option in college_options if option[\"value\"] not in college_remove]"
   ]
  },
  {
   "cell_type": "code",
   "execution_count": 9,
   "metadata": {},
   "outputs": [],
   "source": [
    "# get all pdf urls\n",
    "base_url = \"https://web-as.tamu.edu/GradeReports/PDFReports/\"\n",
    "pdf_urls = []\n",
    "\n",
    "for year in year_list:\n",
    "    for sem in sem_list:\n",
    "        for col in college_list:\n",
    "            pdf_url = f\"{year}{sem}/grd{year}{sem}{col}.pdf\"\n",
    "            full_url = urljoin(base_url, pdf_url)\n",
    "            \n",
    "            response = http.request(\"HEAD\", full_url)\n",
    "\n",
    "            if response.status == 200 and response.headers['Content-Type'] == 'application/pdf':\n",
    "                pdf_urls.append(full_url)"
   ]
  },
  {
   "cell_type": "code",
   "execution_count": 10,
   "metadata": {},
   "outputs": [],
   "source": [
    "# pdf metadata\n",
    "\n",
    "top = 100\n",
    "left = 30\n",
    "width = 720\n",
    "height = 500\n",
    "\n",
    "table_area = [top, left, top + height, left + width]\n",
    "table_x_coords = [130, 177, 222, 267, 314, 359, 404, 440, 473, 505, 537, 568, 600, 642, 750]\n",
    "\n",
    "top_d = 73\n",
    "left_d = 33\n",
    "w_d = 270\n",
    "h_d = 29\n",
    "\n",
    "c_area = [top_d, left_d, top_d + h_d, left_d + w_d]"
   ]
  },
  {
   "cell_type": "code",
   "execution_count": 11,
   "metadata": {},
   "outputs": [],
   "source": [
    "def get_tables(pdf):\n",
    "\n",
    "    # read all grade tables and departments in one college pdf\n",
    "    tables = tabula.read_pdf(pdf, pages = 'all', area=table_area, columns=table_x_coords)\n",
    "    deps = tabula.read_pdf(pdf, pages = 'all', area=c_area, pandas_options={'header': None})\n",
    "\n",
    "    # drop unnecessary columns\n",
    "    tables = [table.dropna().drop(['I', 'S', 'U', 'X', 'A - F'], axis = 1) for table in tables]\n",
    "\n",
    "    # create A, B, C, D, and F percentages\n",
    "    convert = ['A', 'B', 'C', 'D', 'F']\n",
    "    for table in tables:\n",
    "        table[convert] = table[convert].astype(int)\n",
    "        for col in convert:\n",
    "            table[col + '_PER'] = round(table[col]/table['TOTAL'] * 100, 2)\n",
    "        \n",
    "        # split section into course\n",
    "        split_sec = table['SECTION'].str.split('-')\n",
    "        table['COURSE'] = split_sec.str[0] + \" \" + split_sec.str[1]\n",
    "    \n",
    "    tables = [table.drop('SECTION', axis = 1) for table in tables]\n",
    "    \n",
    "    if(len(tables) != len(deps)):\n",
    "        raise Exception(\"table lengths not matching\")\n",
    "    \n",
    "    relates = {}\n",
    "\n",
    "    # {d1 : t1, d2 : t2, d3, t3}\n",
    "    # relate each department to its respective table\n",
    "    for i in range(0, len(tables)):\n",
    "        department = deps[i][1][1]\n",
    "\n",
    "        relates[department] = pd.concat([relates.get(department), tables[i]], axis=0)\n",
    "        \n",
    "    return relates"
   ]
  },
  {
   "cell_type": "code",
   "execution_count": null,
   "metadata": {},
   "outputs": [],
   "source": [
    "all_grd = []\n",
    "done = False\n",
    "\n",
    "count = 0\n",
    "for url in pdf_urls:\n",
    "    try:\n",
    "        all_grd.append(get_tables(url))\n",
    "        print(f\"On URL: {count}\")\n",
    "        count += 1\n",
    "    except Exception as e:\n",
    "        pdf_urls.remove(url)\n",
    "        logging.warning(f\"Exception: {type(e).__name__} : {e} --- URL: {url}\")"
   ]
  },
  {
   "cell_type": "code",
   "execution_count": 12,
   "metadata": {},
   "outputs": [],
   "source": [
    "t = get_tables(pdf_urls[2])"
   ]
  },
  {
   "cell_type": "code",
   "execution_count": 13,
   "metadata": {},
   "outputs": [
    {
     "name": "stdout",
     "output_type": "stream",
     "text": [
      "['ARCHITECTURE', 'CONSTRUCTION SCIENCE', 'LAND ARCH & URBAN PLANNING', 'SCHOOL OF ARCHITECTURE']\n"
     ]
    }
   ],
   "source": [
    "print(list(t.keys()))"
   ]
  },
  {
   "cell_type": "code",
   "execution_count": 14,
   "metadata": {},
   "outputs": [
    {
     "data": {
      "text/html": [
       "<div>\n",
       "<style scoped>\n",
       "    .dataframe tbody tr th:only-of-type {\n",
       "        vertical-align: middle;\n",
       "    }\n",
       "\n",
       "    .dataframe tbody tr th {\n",
       "        vertical-align: top;\n",
       "    }\n",
       "\n",
       "    .dataframe thead th {\n",
       "        text-align: right;\n",
       "    }\n",
       "</style>\n",
       "<table border=\"1\" class=\"dataframe\">\n",
       "  <thead>\n",
       "    <tr style=\"text-align: right;\">\n",
       "      <th></th>\n",
       "      <th>A</th>\n",
       "      <th>B</th>\n",
       "      <th>C</th>\n",
       "      <th>D</th>\n",
       "      <th>F</th>\n",
       "      <th>GPA</th>\n",
       "      <th>Q</th>\n",
       "      <th>TOTAL</th>\n",
       "      <th>INSTRUCTOR</th>\n",
       "      <th>A_PER</th>\n",
       "      <th>B_PER</th>\n",
       "      <th>C_PER</th>\n",
       "      <th>D_PER</th>\n",
       "      <th>F_PER</th>\n",
       "      <th>COURSE</th>\n",
       "    </tr>\n",
       "  </thead>\n",
       "  <tbody>\n",
       "    <tr>\n",
       "      <th>0</th>\n",
       "      <td>16</td>\n",
       "      <td>7</td>\n",
       "      <td>1</td>\n",
       "      <td>0</td>\n",
       "      <td>2</td>\n",
       "      <td>3.346</td>\n",
       "      <td>0.0</td>\n",
       "      <td>26.0</td>\n",
       "      <td>REED K</td>\n",
       "      <td>61.54</td>\n",
       "      <td>26.92</td>\n",
       "      <td>3.85</td>\n",
       "      <td>0.0</td>\n",
       "      <td>7.69</td>\n",
       "      <td>CARC 101</td>\n",
       "    </tr>\n",
       "    <tr>\n",
       "      <th>2</th>\n",
       "      <td>22</td>\n",
       "      <td>3</td>\n",
       "      <td>1</td>\n",
       "      <td>0</td>\n",
       "      <td>0</td>\n",
       "      <td>3.807</td>\n",
       "      <td>0.0</td>\n",
       "      <td>26.0</td>\n",
       "      <td>DAVIS D</td>\n",
       "      <td>84.62</td>\n",
       "      <td>11.54</td>\n",
       "      <td>3.85</td>\n",
       "      <td>0.0</td>\n",
       "      <td>0.00</td>\n",
       "      <td>CARC 101</td>\n",
       "    </tr>\n",
       "    <tr>\n",
       "      <th>6</th>\n",
       "      <td>19</td>\n",
       "      <td>0</td>\n",
       "      <td>0</td>\n",
       "      <td>0</td>\n",
       "      <td>0</td>\n",
       "      <td>4.000</td>\n",
       "      <td>0.0</td>\n",
       "      <td>19.0</td>\n",
       "      <td>ROLDAN M</td>\n",
       "      <td>100.00</td>\n",
       "      <td>0.00</td>\n",
       "      <td>0.00</td>\n",
       "      <td>0.0</td>\n",
       "      <td>0.00</td>\n",
       "      <td>CARC 301</td>\n",
       "    </tr>\n",
       "    <tr>\n",
       "      <th>10</th>\n",
       "      <td>19</td>\n",
       "      <td>0</td>\n",
       "      <td>0</td>\n",
       "      <td>0</td>\n",
       "      <td>0</td>\n",
       "      <td>4.000</td>\n",
       "      <td>0.0</td>\n",
       "      <td>19.0</td>\n",
       "      <td>ROLDAN M</td>\n",
       "      <td>100.00</td>\n",
       "      <td>0.00</td>\n",
       "      <td>0.00</td>\n",
       "      <td>0.0</td>\n",
       "      <td>0.00</td>\n",
       "      <td>CARC 311</td>\n",
       "    </tr>\n",
       "    <tr>\n",
       "      <th>14</th>\n",
       "      <td>19</td>\n",
       "      <td>0</td>\n",
       "      <td>0</td>\n",
       "      <td>0</td>\n",
       "      <td>0</td>\n",
       "      <td>4.000</td>\n",
       "      <td>0.0</td>\n",
       "      <td>19.0</td>\n",
       "      <td>ROLDAN M</td>\n",
       "      <td>100.00</td>\n",
       "      <td>0.00</td>\n",
       "      <td>0.00</td>\n",
       "      <td>0.0</td>\n",
       "      <td>0.00</td>\n",
       "      <td>CARC 331</td>\n",
       "    </tr>\n",
       "  </tbody>\n",
       "</table>\n",
       "</div>"
      ],
      "text/plain": [
       "     A  B  C  D  F    GPA    Q  TOTAL INSTRUCTOR   A_PER  B_PER  C_PER  D_PER  \\\n",
       "0   16  7  1  0  2  3.346  0.0   26.0     REED K   61.54  26.92   3.85    0.0   \n",
       "2   22  3  1  0  0  3.807  0.0   26.0    DAVIS D   84.62  11.54   3.85    0.0   \n",
       "6   19  0  0  0  0  4.000  0.0   19.0   ROLDAN M  100.00   0.00   0.00    0.0   \n",
       "10  19  0  0  0  0  4.000  0.0   19.0   ROLDAN M  100.00   0.00   0.00    0.0   \n",
       "14  19  0  0  0  0  4.000  0.0   19.0   ROLDAN M  100.00   0.00   0.00    0.0   \n",
       "\n",
       "    F_PER    COURSE  \n",
       "0    7.69  CARC 101  \n",
       "2    0.00  CARC 101  \n",
       "6    0.00  CARC 301  \n",
       "10   0.00  CARC 311  \n",
       "14   0.00  CARC 331  "
      ]
     },
     "execution_count": 14,
     "metadata": {},
     "output_type": "execute_result"
    }
   ],
   "source": [
    "df = list(t.values())[3]\n",
    "df.head()"
   ]
  },
  {
   "cell_type": "code",
   "execution_count": 15,
   "metadata": {},
   "outputs": [],
   "source": [
    "df.to_csv('./grds/carc.csv', index=False)"
   ]
  }
 ],
 "metadata": {
  "kernelspec": {
   "display_name": "base",
   "language": "python",
   "name": "python3"
  },
  "language_info": {
   "codemirror_mode": {
    "name": "ipython",
    "version": 3
   },
   "file_extension": ".py",
   "mimetype": "text/x-python",
   "name": "python",
   "nbconvert_exporter": "python",
   "pygments_lexer": "ipython3",
   "version": "3.9.13"
  },
  "orig_nbformat": 4
 },
 "nbformat": 4,
 "nbformat_minor": 2
}
